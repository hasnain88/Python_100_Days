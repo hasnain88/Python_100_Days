{
 "cells": [
  {
   "cell_type": "markdown",
   "id": "8a50d355",
   "metadata": {},
   "source": [
    "## Day - 01 (Band Name Generator)"
   ]
  },
  {
   "cell_type": "code",
   "execution_count": 6,
   "id": "e74a2877",
   "metadata": {},
   "outputs": [
    {
     "name": "stdout",
     "output_type": "stream",
     "text": [
      "Your band name is vadodara hasnain\n"
     ]
    }
   ],
   "source": [
    "your_name = input(\"Enter your name: \")\n",
    "city_name = input(\"Enter city name\")\n",
    "band_name = city_name +\" \" +your_name\n",
    "print(f\"Your band name is {band_name}\")"
   ]
  }
 ],
 "metadata": {
  "kernelspec": {
   "display_name": "base",
   "language": "python",
   "name": "python3"
  },
  "language_info": {
   "codemirror_mode": {
    "name": "ipython",
    "version": 3
   },
   "file_extension": ".py",
   "mimetype": "text/x-python",
   "name": "python",
   "nbconvert_exporter": "python",
   "pygments_lexer": "ipython3",
   "version": "3.12.7"
  }
 },
 "nbformat": 4,
 "nbformat_minor": 5
}
